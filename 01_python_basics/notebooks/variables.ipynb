{
 "cells": [
  {
   "cell_type": "markdown",
   "id": "a73eb4d2",
   "metadata": {},
   "source": [
    "#### **_Variables in Python — From Basics to Advanced_**\n",
    "What is a Variable?\n",
    "You don’t declare the type — it’s determined automatically (dynamic typing).\n",
    "\n",
    " - A variable is a name that stores a value in memory, so you can use and manipulate it later.In Python:\n",
    " - A variable is just a label that points to an object in memory.\n"
   ]
  },
  {
   "cell_type": "markdown",
   "id": "699c9197",
   "metadata": {},
   "source": [
    "##### ***Rules for Naming Variables***\n",
    "\n",
    " - Letters (a–z, A–Z), digits (0–9), underscores _\n",
    " - Must start with a letter or underscore (not a digit)\n",
    " - Case-sensitive (Name ≠ name)\n",
    "\n",
    " ❌ Not allowed:\n",
    " - Starting with a digit: 1name = \"John\" ❌\n",
    " - Using Python keywords: class = \"Test\" ❌"
   ]
  },
  {
   "cell_type": "markdown",
   "id": "b185d613",
   "metadata": {},
   "source": [
    "##### **Example:**"
   ]
  },
  {
   "cell_type": "code",
   "execution_count": 1,
   "id": "1b3b709d",
   "metadata": {},
   "outputs": [],
   "source": [
    "x = 10              # The Data Type Is Integer\n",
    "y = \"python\"        # The Data Type is str"
   ]
  },
  {
   "cell_type": "code",
   "execution_count": 2,
   "id": "766e7f97",
   "metadata": {},
   "outputs": [
    {
     "name": "stdout",
     "output_type": "stream",
     "text": [
      "ok\n",
      "also ok\n"
     ]
    }
   ],
   "source": [
    "valid_name = \"ok\"\n",
    "_valid2 = \"also ok\"\n",
    "\n",
    "# 2bad = \"no\"       # syntax error\n",
    "# for = \"loop\"      # syntax error (keywords)\n",
    "\n",
    "print(valid_name)\n",
    "print(_valid2)"
   ]
  },
  {
   "cell_type": "code",
   "execution_count": 3,
   "id": "ed13d8b3",
   "metadata": {},
   "outputs": [
    {
     "name": "stdout",
     "output_type": "stream",
     "text": [
      "1st variable :- 1\n",
      "2nd variable :- 2\n",
      "3rd variable :- 3\n",
      "\n",
      "Same Output for all variable:- 0\n",
      "Same Output for all variable:- 0\n",
      "Same Output for all variable:- 0\n"
     ]
    }
   ],
   "source": [
    "# Assigning Values to Variables\n",
    "# Single assignment\n",
    "\n",
    "name = \"jhon\"\n",
    "salary = 25\n",
    "\n",
    "# Multiple assignments\n",
    "\n",
    "x,y,z = 1,2,3\n",
    "\n",
    "print(\"1st variable :-\",x)\n",
    "print(\"2nd variable :-\",y)\n",
    "print(\"3rd variable :-\",z)\n",
    "\n",
    "\n",
    "# Same value to multiple variables\n",
    "a = b = c = 0\n",
    "\n",
    "print(\"\\nSame Output for all variable:-\",a)\n",
    "print(\"Same Output for all variable:-\",b)\n",
    "print(\"Same Output for all variable:-\",c)"
   ]
  },
  {
   "cell_type": "markdown",
   "id": "f7388dc3",
   "metadata": {},
   "source": [
    "##### ***Variable Types in Python***"
   ]
  },
  {
   "cell_type": "code",
   "execution_count": 4,
   "id": "ae7af517",
   "metadata": {},
   "outputs": [],
   "source": [
    "# Variables can hold different data types:\n",
    "\n",
    "num = 42                 # int\n",
    "pi = 3.14                # float\n",
    "name = \"Python\"          # str\n",
    "is_active = True         # bool\n",
    "items = [1, 2, 3]        # list\n",
    "coords = (10, 20)        # tuple\n",
    "data = {\"key\": \"value\"}  # dict\n"
   ]
  },
  {
   "cell_type": "markdown",
   "id": "eb6c5dc9",
   "metadata": {},
   "source": [
    "#### **_Constants Variable in Python_**"
   ]
  },
  {
   "cell_type": "code",
   "execution_count": 2,
   "id": "a13e59f1",
   "metadata": {},
   "outputs": [],
   "source": [
    "PI = 3.14159\n",
    "GRAVITY = 9.8"
   ]
  },
  {
   "cell_type": "markdown",
   "id": "cd8cf902",
   "metadata": {},
   "source": [
    "#### **_Deleting Variables_**"
   ]
  },
  {
   "cell_type": "code",
   "execution_count": 11,
   "id": "9230b9f2",
   "metadata": {},
   "outputs": [
    {
     "name": "stdout",
     "output_type": "stream",
     "text": [
      "Output is:- 100\n"
     ]
    }
   ],
   "source": [
    "y = 100\n",
    "print(\"Output is:-\", y)\n",
    "\n",
    "x = 100\n",
    "del x\n",
    "# print(x)  # print(x)  # NameError: name 'x' is not defined"
   ]
  },
  {
   "cell_type": "markdown",
   "id": "d73ff7ac",
   "metadata": {},
   "source": [
    "#### **_Advanced Concepts_**"
   ]
  },
  {
   "cell_type": "code",
   "execution_count": 16,
   "id": "18f85cde",
   "metadata": {},
   "outputs": [
    {
     "name": "stdout",
     "output_type": "stream",
     "text": [
      "one element append :- [1, 2, 3]\n"
     ]
    }
   ],
   "source": [
    "a = [1, 2]       # Create a list 'a' with elements 1 and 2\n",
    "b = a            # 'b' refers to the same list as 'a' (not a new list)\n",
    "b.append(3)      # Add 3 to the list using 'b'; this modifies the same list that 'a' points to\n",
    "print(\"one element append :-\", a)  # Output: one element append :- [1, 2, 3]"
   ]
  },
  {
   "cell_type": "markdown",
   "id": "63da26bc",
   "metadata": {},
   "source": [
    "#### **_id() function_**"
   ]
  },
  {
   "cell_type": "code",
   "execution_count": 20,
   "id": "370dc28b",
   "metadata": {},
   "outputs": [
    {
     "name": "stdout",
     "output_type": "stream",
     "text": [
      "140732920769240\n"
     ]
    }
   ],
   "source": [
    "x = 10           # Assign the integer value 10 to the variable 'x'\n",
    "print(id(x))     # Print the memory address (or unique ID) of the object that 'x' refers to\n",
    "\n",
    "# Output: 9789440 (this will differ every time and per Python implementation)"
   ]
  },
  {
   "cell_type": "markdown",
   "id": "46a5e6f2",
   "metadata": {},
   "source": [
    "##### ***_Variable Scope_***\n",
    "- Local — inside a function.\n",
    "\n",
    "        1. A variable that is defined inside a function is said to have local scope.\n",
    "        2. These variables are only accessible within that function and are not visible outside of it.\n",
    "    \n",
    "- Global — outside all functions.\n",
    "\n",
    "        1. A global variable is defined outside any function, and it is accessible from any function within the same module.\n",
    "        2. global variable can be accessed and modified inside a function using the global keyword.\n",
    "\n",
    "- Enclosing — in nested functions\n",
    "\n",
    "        1. This scope refers to variables that are defined in a function and are enclosing another function (i.e., nested functions).\n",
    "        2. A variable defined in an enclosing function can be accessed by a function inside it (nested function), but it's neither local to the inner function nor global to the entire program.\n",
    "\n",
    "- Built-in — Python’s own keywords/functions\n",
    "\n",
    "        1. These are the names and functions that are predefined by Python. They are part of Python's standard library and can be used anywhere in your program.\n",
    "\n",
    "        2. Examples include functions like print(), len(), and constants like True, False, None."
   ]
  },
  {
   "cell_type": "markdown",
   "id": "52c920e8",
   "metadata": {},
   "source": [
    "#### **_Local Scope_**"
   ]
  },
  {
   "cell_type": "code",
   "execution_count": 5,
   "id": "37cc613a",
   "metadata": {},
   "outputs": [
    {
     "name": "stdout",
     "output_type": "stream",
     "text": [
      "10\n"
     ]
    }
   ],
   "source": [
    "def my_function(x):  # The function takes x as a parameter\n",
    "    x = 10  # Local assignment\n",
    "    print(x)  # This will print 10, not the global x\n",
    "\n",
    "my_function(x)  # Passes global x (5), but inside the function, x is reassigned to 10"
   ]
  },
  {
   "cell_type": "code",
   "execution_count": 6,
   "id": "bd149edc",
   "metadata": {},
   "outputs": [
    {
     "name": "stdout",
     "output_type": "stream",
     "text": [
      "40\n"
     ]
    }
   ],
   "source": [
    "def outer_function():\n",
    "    x = 40  # Enclosing variable (x is local to outer_function)\n",
    "\n",
    "    def inner_function():\n",
    "        print(x)  # This will access x from outer_function\n",
    "\n",
    "    inner_function()  # Calling the inner function inside outer_function\n",
    "\n",
    "outer_function()  # Calling outer_function, out put is 40"
   ]
  },
  {
   "cell_type": "code",
   "execution_count": 7,
   "id": "0016dfe7",
   "metadata": {},
   "outputs": [
    {
     "name": "stdout",
     "output_type": "stream",
     "text": [
      "Output is:- 40\n"
     ]
    }
   ],
   "source": [
    "def outer_function():\n",
    "    x = 40  # Enclosing variable (x is local to outer_function)\n",
    "\n",
    "    def inner_function():\n",
    "       return x  # This will access x from outer_function\n",
    "\n",
    "    return inner_function()  # Calling the inner function inside outer_function\n",
    "\n",
    "print(\"Output is:-\", outer_function())  # Calling outer_function, out put is 40"
   ]
  },
  {
   "cell_type": "markdown",
   "id": "006a9e52",
   "metadata": {},
   "source": [
    "#### **_Global Scope_**"
   ]
  },
  {
   "cell_type": "code",
   "execution_count": 8,
   "id": "0b867429",
   "metadata": {},
   "outputs": [
    {
     "name": "stdout",
     "output_type": "stream",
     "text": [
      "10\n"
     ]
    }
   ],
   "source": [
    "x = 5  # Global variable\n",
    "def my_function(x):  # The function takes x as a parameter\n",
    "    x = 10  # Local assignment\n",
    "    print(x)  # This will print 10, not the global x\n",
    "\n",
    "my_function(x)  # Passes global x (5), but inside the function, x is reassigned to 10"
   ]
  },
  {
   "cell_type": "code",
   "execution_count": 9,
   "id": "3387acf4",
   "metadata": {},
   "outputs": [
    {
     "name": "stdout",
     "output_type": "stream",
     "text": [
      "20\n"
     ]
    }
   ],
   "source": [
    "x = 20  # Global variable\n",
    "\n",
    "def function():\n",
    "    print(x)  # Accesses global x\n",
    "\n",
    "function()  # This will print 20"
   ]
  },
  {
   "cell_type": "code",
   "execution_count": 10,
   "id": "4c3e85ea",
   "metadata": {},
   "outputs": [
    {
     "name": "stdout",
     "output_type": "stream",
     "text": [
      "20\n",
      "20\n"
     ]
    }
   ],
   "source": [
    "# To modify a global variable inside a function, you'd need to use the global keyword:\n",
    "\n",
    "x = 30  # Global variable\n",
    "\n",
    "def function():\n",
    "    global x  # Declare that we want to modify the global variable 'x'\n",
    "    x = 20  # Modify the global variable 'x'\n",
    "    print(x)  # This prints the modified value of 'x' (20)\n",
    "\n",
    "function()  # Call the function, it will modify 'x' and print 20\n",
    "print(x)  # This will also print 20, as the global 'x' was modified inside the function"
   ]
  },
  {
   "cell_type": "markdown",
   "id": "ba2dee2b",
   "metadata": {},
   "source": [
    "#### **_Enclosing Scope (also called Nonlocal Scope):_**"
   ]
  },
  {
   "cell_type": "code",
   "execution_count": 12,
   "id": "406f07c9",
   "metadata": {},
   "outputs": [
    {
     "data": {
      "text/plain": [
       "40"
      ]
     },
     "execution_count": 12,
     "metadata": {},
     "output_type": "execute_result"
    }
   ],
   "source": [
    "def out_function():\n",
    "    x = 30  # Local to outer_function (also acts as \"enclosing\" for inner_function)\n",
    "\n",
    "    def inn_function():\n",
    "        print(x)  # Accesses x from outer_function\n",
    "\n",
    "    inn_function()\n",
    "\n",
    "outer_function()"
   ]
  },
  {
   "cell_type": "code",
   "execution_count": null,
   "id": "4bfc105a",
   "metadata": {},
   "outputs": [
    {
     "name": "stdout",
     "output_type": "stream",
     "text": [
      "Inner: 50\n",
      "Outer: 50\n"
     ]
    }
   ],
   "source": [
    "def outer_function():\n",
    "    x = 30  # Local to outer_function, enclosing for inner_function\n",
    "\n",
    "    def inner_function():\n",
    "        nonlocal x  # Declare x is from enclosing scope\n",
    "        x = 50  # Modify the enclosing variable\n",
    "        print(\"Inner:\", x)\n",
    "\n",
    "    inner_function()\n",
    "    print(\"Outer:\", x)\n",
    "\n",
    "outer_function()"
   ]
  },
  {
   "cell_type": "markdown",
   "id": "a36deeb9",
   "metadata": {},
   "source": [
    "#### **_Built-in Scope_**"
   ]
  },
  {
   "cell_type": "code",
   "execution_count": 1,
   "id": "faefce2c",
   "metadata": {},
   "outputs": [
    {
     "name": "stdout",
     "output_type": "stream",
     "text": [
      "Hello, World!\n"
     ]
    }
   ],
   "source": [
    "print(\"Hello, World!\")  # 'print' is a built-in function in Python"
   ]
  },
  {
   "cell_type": "markdown",
   "id": "db35a10f",
   "metadata": {},
   "source": [
    "#### **_Mutable vs Immutable Variables_**\n",
    "\n",
    "- Mutable: list, dict, set → can change in place\n",
    "- Immutable: int, float, str, tuple → cannot change in place"
   ]
  },
  {
   "cell_type": "code",
   "execution_count": 1,
   "id": "a10dee2d",
   "metadata": {},
   "outputs": [],
   "source": [
    " # to be continue"
   ]
  },
  {
   "cell_type": "code",
   "execution_count": null,
   "id": "49d6ad1e",
   "metadata": {},
   "outputs": [],
   "source": []
  }
 ],
 "metadata": {
  "kernelspec": {
   "display_name": "base",
   "language": "python",
   "name": "python3"
  },
  "language_info": {
   "codemirror_mode": {
    "name": "ipython",
    "version": 3
   },
   "file_extension": ".py",
   "mimetype": "text/x-python",
   "name": "python",
   "nbconvert_exporter": "python",
   "pygments_lexer": "ipython3",
   "version": "3.12.7"
  }
 },
 "nbformat": 4,
 "nbformat_minor": 5
}
