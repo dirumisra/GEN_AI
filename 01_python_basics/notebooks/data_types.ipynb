{
 "cells": [
  {
   "cell_type": "markdown",
   "id": "3eb6a611",
   "metadata": {},
   "source": [
    "#### **_Data Types in Python — Basic to Advanced_**\n",
    "\n",
    "    Introduction\n",
    "\n",
    "    - A data type defines what kind of value a variable holds and what operations can be performed on it.\n",
    "    - Python is dynamically typed — you don’t declare the type explicitly; it’s inferred from the value."
   ]
  },
  {
   "cell_type": "markdown",
   "id": "fed28021",
   "metadata": {},
   "source": [
    "#### Categories of Python Data Types"
   ]
  },
  {
   "cell_type": "code",
   "execution_count": 12,
   "id": "4dc05371",
   "metadata": {},
   "outputs": [],
   "source": [
    "data_types_table = [\n",
    "    \n",
    "    {\"Category\":\"Numeric\",\"Types\":[\"int\",\"float\",\"complex\"]},\n",
    "    {\"Category\":\"Sequence\",\"Types\":[\"str\",\"list\",\"tuple\",\"range\"]},\n",
    "    {\"Category\":\"Mapping\",\"Types\":[\"dict\"]},\n",
    "    {\"Category\":\"Set\",\"Types\":[\"set\",\"frozenset\"]},\n",
    "    {\"Category\":\"Boolean\",\"Types\":[\"bool\"]},\n",
    "    {\"Category\":\"Binary\",\"Types\":[\"bytes\",\"bytearray\",\"memoryview\"]},\n",
    "    {\"Category\":\"None Type\",\"Types\":[\"NoneType\"]}]"
   ]
  },
  {
   "cell_type": "code",
   "execution_count": 13,
   "id": "62212478",
   "metadata": {},
   "outputs": [
    {
     "name": "stdout",
     "output_type": "stream",
     "text": [
      "Numeric     >  int,float,complex\n",
      "Sequence    >  str,list,tuple,range\n",
      "Mapping     >  dict\n",
      "Set         >  set,frozenset\n",
      "Boolean     >  bool\n",
      "Binary      >  bytes,bytearray,memoryview\n",
      "None Type   >  NoneType\n"
     ]
    }
   ],
   "source": [
    "for row in data_types_table:\n",
    "    print(f\"{row['Category']:<12}>  {','.join(row['Types'])}\")"
   ]
  },
  {
   "cell_type": "markdown",
   "id": "70314c4d",
   "metadata": {},
   "source": [
    "####  **_Detailed Data Types_**\n",
    "\n",
    "### Numeric — int, float, complex, plus Decimal, Fraction"
   ]
  },
  {
   "cell_type": "code",
   "execution_count": 14,
   "id": "3391b17b",
   "metadata": {},
   "outputs": [
    {
     "name": "stdout",
     "output_type": "stream",
     "text": [
      "It is real value:>  2.0\n",
      "Imaginary part:>  3.0\n"
     ]
    }
   ],
   "source": [
    "x = 42                # Integer (int): whole number without decimals, can be very large in Python\n",
    "pi = 3.14159          # Floating-point number (float): decimal number stored approximately using IEEE-754 format\n",
    "z = 2 + 3j            # Complex number (complex): has a real part (2) and an imaginary part (3), where 'j' is √-1\n",
    "\n",
    "# Accessing the real part of the complex number 'z'\n",
    "print(\"It is real value:> \", z.real)    # Outputs 2.0 (real part as a float)\n",
    "\n",
    "# Accessing the imaginary part of the complex number 'z'\n",
    "print(\"Imaginary part:> \", z.imag)      # Outputs 3.0 (imaginary part as a float)"
   ]
  },
  {
   "cell_type": "code",
   "execution_count": 15,
   "id": "cf2b9684",
   "metadata": {},
   "outputs": [
    {
     "name": "stdout",
     "output_type": "stream",
     "text": [
      "3.3333333333333335\n",
      "1\n",
      "1000\n",
      "addition >  13\n",
      "floor division >  3\n",
      "absolute value >  5\n",
      "exponentiation >  1000\n"
     ]
    },
    {
     "ename": "NameError",
     "evalue": "name 'c' is not defined",
     "output_type": "error",
     "traceback": [
      "\u001b[1;31m---------------------------------------------------------------------------\u001b[0m",
      "\u001b[1;31mNameError\u001b[0m                                 Traceback (most recent call last)",
      "Cell \u001b[1;32mIn[15], line 18\u001b[0m\n\u001b[0;32m     15\u001b[0m \u001b[38;5;28mprint\u001b[39m(\u001b[38;5;124m\"\u001b[39m\u001b[38;5;124mexponentiation > \u001b[39m\u001b[38;5;124m\"\u001b[39m, \u001b[38;5;28mpow\u001b[39m(a, b)) \u001b[38;5;66;03m# Using pow(): raises a to the power of b (10^3 = 1000)\u001b[39;00m\n\u001b[0;32m     17\u001b[0m \u001b[38;5;66;03m# Assuming c is defined as a complex number, e.g., c = 2 + 3j\u001b[39;00m\n\u001b[1;32m---> 18\u001b[0m \u001b[38;5;28mprint\u001b[39m(\u001b[38;5;124m\"\u001b[39m\u001b[38;5;124mreal & imaginary parts > \u001b[39m\u001b[38;5;124m\"\u001b[39m, \u001b[43mc\u001b[49m\u001b[38;5;241m.\u001b[39mreal, c\u001b[38;5;241m.\u001b[39mimag)  \n\u001b[0;32m     19\u001b[0m \u001b[38;5;66;03m# Prints real and imaginary parts of complex number c separately (2.0 and 3.0)\u001b[39;00m\n",
      "\u001b[1;31mNameError\u001b[0m: name 'c' is not defined"
     ]
    }
   ],
   "source": [
    "# Intermediate level operations\n",
    "\n",
    "a, b = 10, 3  # Assign integers 10 and 3 to variables a and b\n",
    "\n",
    "print(a / b)          # True division: divides a by b and returns a float (3.3333...)\n",
    "print(a % b)          # Modulus: remainder when a is divided by b (1)\n",
    "print(a ** b)         # Exponentiation: a raised to the power of b (10^3 = 1000)\n",
    "                      # Note: 'pow(a, b)' is similar and more flexible (can take modulus as a third argument)\n",
    "\n",
    "print(\"addition > \", a + b)            # Adds a and b, then prints the result (13)\n",
    "print(\"floor division > \", a // b)     # Floor division: divides a by b and rounds down to nearest whole number (3)\n",
    "\n",
    "print(\"absolute value > \", abs(-5))    # Absolute value: returns non-negative value of -5 (5)\n",
    "\n",
    "print(\"exponentiation > \", pow(a, b)) # Using pow(): raises a to the power of b (10^3 = 1000)\n",
    "\n",
    "# Assuming c is defined as a complex number, e.g., c = 2 + 3j\n",
    "print(\"real & imaginary parts > \", c.real, c.imag)  \n",
    "# Prints real and imaginary parts of complex number c separately (2.0 and 3.0)"
   ]
  },
  {
   "cell_type": "code",
   "execution_count": null,
   "id": "0c9a5326",
   "metadata": {},
   "outputs": [
    {
     "name": "stdout",
     "output_type": "stream",
     "text": [
      "2.469\n"
     ]
    }
   ],
   "source": [
    "# Advanced\n",
    "\n",
    "from decimal import Decimal, getcontext\n",
    "\n",
    "getcontext().prec = 4\n",
    "\n",
    "x = Decimal(\"1.23456789\")\n",
    "y = Decimal(\"2\")\n",
    "\n",
    "result = x * y\n",
    "print(result)  # Will apply precision: 2.469\n"
   ]
  },
  {
   "cell_type": "code",
   "execution_count": null,
   "id": "486677bc",
   "metadata": {},
   "outputs": [
    {
     "name": "stdout",
     "output_type": "stream",
     "text": [
      "Using string: 19.99\n",
      "Using float : 19.989999999999998436805981327779591083526611328125\n"
     ]
    }
   ],
   "source": [
    "from decimal import Decimal, getcontext, ROUND_HALF_EVEN\n",
    "\n",
    "getcontext().prec=4\n",
    "getcontext().rounding = ROUND_HALF_EVEN\n",
    "a = Decimal(\"19.99\")\n",
    "b = Decimal(19.99)\n",
    "\n",
    "print(\"Using string:\", a)\n",
    "print(\"Using float :\", b)\n"
   ]
  },
  {
   "cell_type": "code",
   "execution_count": null,
   "id": "4eb778be",
   "metadata": {},
   "outputs": [
    {
     "name": "stdout",
     "output_type": "stream",
     "text": [
      "Using float:  0.30000000000000004\n",
      "Using Decimal:  0.3\n"
     ]
    }
   ],
   "source": [
    "from decimal import Decimal  # Importing the Decimal class from the decimal module for precise decimal arithmetic\n",
    "\n",
    "# Demonstrating floating-point arithmetic in Python\n",
    "# Floating-point numbers (like 0.1 and 0.2) cannot be represented exactly in binary,\n",
    "# which often leads to small precision errors in calculations.\n",
    "print(\"Using float: \", 0.1 + 0.2)  # This will print 0.30000000000000004 instead of 0.3\n",
    "\n",
    "# Demonstrating decimal arithmetic using the Decimal module\n",
    "# Decimal objects preserve exact precision by using base-10 representation.\n",
    "# This is especially useful for financial or other high-precision applications.\n",
    "print(\"Using Decimal: \", Decimal(\"0.1\") + Decimal(\"0.2\"))  # This will correctly print 0.3\n"
   ]
  },
  {
   "cell_type": "code",
   "execution_count": null,
   "id": "1de5395f",
   "metadata": {},
   "outputs": [
    {
     "name": "stdout",
     "output_type": "stream",
     "text": [
      "Using float (0.1 + 0.2): 0.30000000000000004\n",
      "Is float result equal to 0.3? False\n",
      "Using Decimal (0.1 + 0.2): 0.3\n",
      "Is Decimal result equal to 0.3? True\n"
     ]
    }
   ],
   "source": [
    "from decimal import Decimal\n",
    "\n",
    "# Using float\n",
    "a_float = 0.1 + 0.2\n",
    "print(\"Using float (0.1 + 0.2):\", a_float)\n",
    "print(\"Is float result equal to 0.3?\", a_float == 0.3)\n",
    "\n",
    "# Using Decimal\n",
    "a_decimal = Decimal(\"0.1\") + Decimal(\"0.2\")\n",
    "print(\"Using Decimal (0.1 + 0.2):\", a_decimal)\n",
    "print(\"Is Decimal result equal to 0.3?\", a_decimal == Decimal(\"0.3\"))"
   ]
  },
  {
   "cell_type": "code",
   "execution_count": null,
   "id": "ab4ce526",
   "metadata": {},
   "outputs": [
    {
     "name": "stdout",
     "output_type": "stream",
     "text": [
      "True\n",
      "True\n"
     ]
    }
   ],
   "source": [
    "from decimal import Decimal, getcontext, ROUND_HALF_EVEN\n",
    "from fractions import Fraction\n",
    "import math, numbers\n",
    "\n",
    "# Set precision and rounding mode for Decimal\n",
    "getcontext().prec = 28\n",
    "getcontext().rounding = ROUND_HALF_EVEN\n",
    "\n",
    "# Use Decimal for accurate currency calculation\n",
    "total = (Decimal(\"19.99\") * Decimal(\"3\")).quantize(Decimal(\"0.01\"))\n",
    "\n",
    "# Add two exact fractions\n",
    "ratio = Fraction(1, 3) + Fraction(1, 6)\n",
    "\n",
    "# Test float comparison using math.isclose (accounts for float imprecision)\n",
    "print(math.isclose(0.1 + 0.2, 0.3))  # ✅ True — safe float comparison\n",
    "\n",
    "# Check if 42 is an instance of an integral number type\n",
    "print(isinstance(42, numbers.Integral))  # ✅ True"
   ]
  },
  {
   "cell_type": "code",
   "execution_count": null,
   "id": "5dfc0da6",
   "metadata": {},
   "outputs": [
    {
     "name": "stdout",
     "output_type": "stream",
     "text": [
      "Using == : 0.1 False\n",
      "Using math.inclose() : True\n"
     ]
    }
   ],
   "source": [
    "# math.isclose() Safely compare two float values\n",
    "\n",
    "import math\n",
    "# Trying to compare two floats using ==\n",
    "print(\"Using == :\", 0.1, 0.2 == 0.3)   # ❌ False (due to float precision error)\n",
    "\n",
    "# Comparing the same floats using math.isclose()\n",
    "print(\"Using math.inclose() :\",math.isclose(0.1 + 0.2, 0.3))  # ✅ True\n",
    "\n",
    "# math.isclose() is helpful when dealing with floating-point math in scientific or ML code"
   ]
  },
  {
   "cell_type": "code",
   "execution_count": null,
   "id": "d1b51fb6",
   "metadata": {},
   "outputs": [
    {
     "name": "stdout",
     "output_type": "stream",
     "text": [
      "Is x an integral number? True\n"
     ]
    }
   ],
   "source": [
    "# numbers.Integral Check if a value behaves like an int\n",
    "\n",
    "import numbers\n",
    "\n",
    "# Basic integer check\n",
    "x = 42\n",
    "print(\"Is x an integral number?\", isinstance(x,numbers.Integral))  # ✅ True\n",
    "\n",
    "# Float should not be considered integral"
   ]
  },
  {
   "cell_type": "markdown",
   "id": "64ed0e5f",
   "metadata": {},
   "source": [
    "#### Boolean — bool (Theory: bool ⊂ int → True == 1, False == 0; short‑circuiting (and/or) matters.)"
   ]
  },
  {
   "cell_type": "code",
   "execution_count": null,
   "id": "f9117bfb",
   "metadata": {},
   "outputs": [
    {
     "name": "stdout",
     "output_type": "stream",
     "text": [
      "2\n",
      "dd\n",
      "False\n",
      "True\n",
      "False True\n"
     ]
    }
   ],
   "source": [
    "print(True + True) #2\n",
    "\n",
    "print(\"d\" + \"d\")        # print this one also\n",
    "\n",
    "print(bool(\"\"))         # Empty strings (\"\") are considered False\n",
    "\n",
    "print(bool([1]))        # Non-empty lists (like [1]) are considered True\n",
    "\n",
    "print(bool(\"\"),bool([1]))   # final print"
   ]
  },
  {
   "cell_type": "code",
   "execution_count": null,
   "id": "5fda7230",
   "metadata": {},
   "outputs": [
    {
     "data": {
      "text/plain": [
       "True"
      ]
     },
     "execution_count": 33,
     "metadata": {},
     "output_type": "execute_result"
    }
   ],
   "source": [
    "# Intermediate\n",
    "\n",
    "def ping(): \n",
    "    print(\"ping\") \n",
    "    return True\n",
    "\n",
    "False and ping()   # No call (left side is False)\n",
    "True or ping()     # No call (left side is True)"
   ]
  },
  {
   "cell_type": "code",
   "execution_count": null,
   "id": "3430a9e7",
   "metadata": {},
   "outputs": [],
   "source": [
    "# Advanced\n",
    "import numbers\n",
    "def is_strict_int(x):\n",
    "    return isinstance(x, numbers.Integral) and not isinstance(x, bool)"
   ]
  },
  {
   "cell_type": "code",
   "execution_count": null,
   "id": "23b02be8",
   "metadata": {},
   "outputs": [
    {
     "name": "stdout",
     "output_type": "stream",
     "text": [
      "Data type is Int:- True\n",
      "Data type is Int :> False\n",
      "Data type is int :>  True\n",
      "Data type is int :>  True\n"
     ]
    }
   ],
   "source": [
    "# type and isinstance are different\n",
    "#example \n",
    "\n",
    "print(\"Data type is Int:-\", type(1) == int)\n",
    "print(\"Data type is Int :>\", type(True) == int)\n",
    "\n",
    "\n",
    "# What does isinstance\n",
    "\n",
    "print(\"Data type is int :> \",isinstance(1, int))     # True\n",
    "print(\"Data type is int :> \",isinstance(True, int))    # True ✅ (since bool is a subclass of int)"
   ]
  },
  {
   "cell_type": "code",
   "execution_count": null,
   "id": "7df1431f",
   "metadata": {},
   "outputs": [
    {
     "name": "stdout",
     "output_type": "stream",
     "text": [
      "True\n",
      "True\n",
      "<class '__main__.B'>\n"
     ]
    }
   ],
   "source": [
    "# Example to Make It Crystal Clear:\n",
    "class A:\n",
    "    pass\n",
    "\n",
    "class B(A):\n",
    "    pass\n",
    "\n",
    "b = B()\n",
    "\n",
    "print(isinstance(b, B))  # True\n",
    "print(isinstance(b, A))  # True ✅\n",
    "print(type(b))           # <class '__main__.B'>"
   ]
  },
  {
   "cell_type": "markdown",
   "id": "55953ac6",
   "metadata": {},
   "source": [
    "#### String (str)"
   ]
  },
  {
   "cell_type": "code",
   "execution_count": null,
   "id": "838bf4cb",
   "metadata": {},
   "outputs": [
    {
     "name": "stdout",
     "output_type": "stream",
     "text": [
      "DHIRAJMISRA\n"
     ]
    }
   ],
   "source": [
    "name = \"dhirajmisra\"\n",
    "fname = 'diraj '\n",
    "lname = 'misra'\n",
    "\n",
    "print(name.upper())"
   ]
  },
  {
   "cell_type": "code",
   "execution_count": null,
   "id": "e2bc1d8f",
   "metadata": {},
   "outputs": [
    {
     "name": "stdout",
     "output_type": "stream",
     "text": [
      "DHIRAJMISRA\n",
      "dhi\n",
      "arsimjarihd\n",
      "False\n",
      "dhirajmisra\n",
      "straße\n",
      "strasse\n"
     ]
    }
   ],
   "source": [
    "print(name.upper())       # uppercase\n",
    "print(name[0:3])          # slicing\n",
    "print(name[::-1])         # reverse\n",
    "print(\"Py\" in name)       # substring check\n",
    "print(name.replace(\"Py\", \"My\"))\n",
    "\n",
    "print(\"Straße\".lower())     # 'straße'\n",
    "print(\"Straße\".casefold())  # 'strasse'\n"
   ]
  },
  {
   "cell_type": "code",
   "execution_count": null,
   "id": "69fa6d5d",
   "metadata": {},
   "outputs": [
    {
     "name": "stdout",
     "output_type": "stream",
     "text": [
      "pyt nohtyp\n"
     ]
    }
   ],
   "source": [
    "# Define a string variable 's' and assign it the value \"python\"\n",
    "s = \"python\"\n",
    "\n",
    "# Print two values:\n",
    "# 1. s[0:3] - Slice from index 0 to 2 (0-inclusive, 3-exclusive), which gives 'pyt'\n",
    "# 2. s[::-1] - Slice the entire string in reverse order (step = -1), which gives 'nohtyp'\n",
    "print(s[0:3], s[::-1])  # Output: 'pyt' 'nohtyp'"
   ]
  },
  {
   "cell_type": "code",
   "execution_count": null,
   "id": "43690a08",
   "metadata": {},
   "outputs": [
    {
     "name": "stdout",
     "output_type": "stream",
     "text": [
      "True\n",
      "['a', 'b']\n",
      "x-y\n",
      "Hi Ava!\n"
     ]
    }
   ],
   "source": [
    "# Intermediate\n",
    "\n",
    "print(\"Py\" in \"Python\")          # True (O(n))\n",
    "print(\"a,b\".split(\",\"))          # ['a','b']\n",
    "print(\"-\".join([\"x\",\"y\"]))       # 'x-y' (join is O(n))\n",
    "print(f\"Hi {'Ava'}!\")            # f-strings\n"
   ]
  },
  {
   "cell_type": "code",
   "execution_count": null,
   "id": "13f5650e",
   "metadata": {},
   "outputs": [
    {
     "name": "stdout",
     "output_type": "stream",
     "text": [
      "False\n",
      "True\n"
     ]
    }
   ],
   "source": [
    "# Advance\n",
    "\n",
    "import unicodedata  # Unicode normalization tools\n",
    "\n",
    "def norm(u):\n",
    "    # Normalize Unicode to NFC and apply case folding for consistent comparisons\n",
    "    return unicodedata.normalize(\"NFC\", u).casefold()\n",
    "\n",
    "# Using 'Strabe' (with 'b') will NOT match 'STRASSE'\n",
    "# Because 'b' is not the same as 'ß', even after casefolding\n",
    "print(norm(\"Strabe\") == norm(\"STRASSE\"))  # False ❌\n",
    "\n",
    "# This works because 'ß' casefolds to 'ss'\n",
    "print(norm(\"Straße\") == norm(\"STRASSE\"))  # True ✅\n"
   ]
  },
  {
   "cell_type": "markdown",
   "id": "7ceb71e2",
   "metadata": {},
   "source": [
    "#### List **_(Mutable ordered collection.)_**"
   ]
  },
  {
   "cell_type": "code",
   "execution_count": null,
   "id": "0f562172",
   "metadata": {},
   "outputs": [
    {
     "name": "stdout",
     "output_type": "stream",
     "text": [
      "['apple', 'banana', 'cherry']\n"
     ]
    }
   ],
   "source": [
    "fruits = [\"apple\",\"banana\",\"cherry\"]\n",
    "print(fruits)"
   ]
  },
  {
   "cell_type": "code",
   "execution_count": null,
   "id": "361616ba",
   "metadata": {},
   "outputs": [
    {
     "name": "stdout",
     "output_type": "stream",
     "text": [
      "['apple', 'banana', 'cherry', 'mango', 'mango', 'mango']\n"
     ]
    }
   ],
   "source": [
    "# append\n",
    "\n",
    "fruits.append(\"mango\")\n",
    "print(fruits)\n"
   ]
  },
  {
   "cell_type": "code",
   "execution_count": 16,
   "id": "cebdd850",
   "metadata": {},
   "outputs": [
    {
     "ename": "ValueError",
     "evalue": "list.remove(x): x not in list",
     "output_type": "error",
     "traceback": [
      "\u001b[1;31m---------------------------------------------------------------------------\u001b[0m",
      "\u001b[1;31mValueError\u001b[0m                                Traceback (most recent call last)",
      "Cell \u001b[1;32mIn[16], line 2\u001b[0m\n\u001b[0;32m      1\u001b[0m \u001b[38;5;66;03m# remove\u001b[39;00m\n\u001b[1;32m----> 2\u001b[0m \u001b[43mfruits\u001b[49m\u001b[38;5;241;43m.\u001b[39;49m\u001b[43mremove\u001b[49m\u001b[43m(\u001b[49m\u001b[38;5;124;43m\"\u001b[39;49m\u001b[38;5;124;43mbanana\u001b[39;49m\u001b[38;5;124;43m\"\u001b[39;49m\u001b[43m)\u001b[49m\n\u001b[0;32m      3\u001b[0m \u001b[38;5;28mprint\u001b[39m(fruits)\n",
      "\u001b[1;31mValueError\u001b[0m: list.remove(x): x not in list"
     ]
    }
   ],
   "source": [
    "# remove\n",
    "fruits.remove(\"banana\")\n",
    "print(fruits)"
   ]
  },
  {
   "cell_type": "code",
   "execution_count": null,
   "id": "dbe59b40",
   "metadata": {},
   "outputs": [
    {
     "name": "stdout",
     "output_type": "stream",
     "text": [
      "[99, 2, 3, 4]\n"
     ]
    }
   ],
   "source": [
    "nums = [1, 2, 3]      # Create a list with initial elements [1, 2, 3]\n",
    "nums.append(4)        # Append the number 4 to the end of the list → [1, 2, 3, 4]\n",
    "nums[0] = 99          # Update the first element (index 0) to 99 → [99, 2, 3, 4]\n",
    "\n",
    "print(nums)"
   ]
  },
  {
   "cell_type": "code",
   "execution_count": 21,
   "id": "34434d6f",
   "metadata": {},
   "outputs": [
    {
     "name": "stdout",
     "output_type": "stream",
     "text": [
      "[1, 2, 3]\n",
      "[99, 2, 3]\n"
     ]
    }
   ],
   "source": [
    "# Example with simple (immutable) items:\n",
    "\n",
    "a = [1,2,3]\n",
    "b = a[:]  #shallow copy\n",
    "\n",
    "\n",
    "b[0] = 99\n",
    "\n",
    "print(a)\n",
    "print(b)"
   ]
  },
  {
   "cell_type": "code",
   "execution_count": 40,
   "id": "5f999e5c",
   "metadata": {},
   "outputs": [
    {
     "name": "stdout",
     "output_type": "stream",
     "text": [
      "['a', 'b', 'c']\n"
     ]
    }
   ],
   "source": [
    "# Advanced\n",
    "\n",
    "import copy  # Import the copy module to use copy and deepcopy functions\n",
    "\n",
    "nested = [[1], [2]]  # A nested list: two inner lists inside an outer list\n",
    "\n",
    "alias = nested  # alias points to the same object as nested (no copy, just a new reference)\n",
    "\n",
    "nested[0].append(9)  # Modifies the first inner list by adding 9 → nested becomes [[1, 9], [2]]\n",
    "                    # Since alias points to the same list, alias also sees this change\n",
    "\n",
    "deep = copy.deepcopy(nested)  # Creates a completely independent deep copy of nested\n",
    "                              # deep = [[1, 9], [2]] — any future changes to nested won't affect deep\n",
    "\n",
    "nested[1].append(8)  # Appends 8 to the second inner list of nested → nested becomes [[1, 9], [2, 8]]\n",
    "                    # deep remains unchanged → [[1, 9], [2]]\n",
    "\n",
    "# Ordered deduplication:\n",
    "unique = list(dict.fromkeys([\"a\", \"b\", \"a\", \"c\", \"b\"]))  \n",
    "# dict.fromkeys(...) removes duplicates while preserving insertion order\n",
    "# Resulting dict: {'a': None, 'b': None, 'c': None}\n",
    "# list(...) converts the keys of the dict back into a list → ['a', 'b', 'c']\n",
    "\n",
    "print(unique)\n"
   ]
  },
  {
   "cell_type": "markdown",
   "id": "e14fda70",
   "metadata": {},
   "source": [
    "#### **_Tuple — tuple (immutable, ordered)_**"
   ]
  },
  {
   "cell_type": "code",
   "execution_count": 53,
   "id": "81c4e4b1",
   "metadata": {},
   "outputs": [],
   "source": [
    "t = (10, 20, 30)    # A tuple with three elements\n",
    "single = (42,)      # A tuple with one element (Note the comma)"
   ]
  },
  {
   "cell_type": "code",
   "execution_count": 70,
   "id": "f856f8e3",
   "metadata": {},
   "outputs": [
    {
     "name": "stdout",
     "output_type": "stream",
     "text": [
      "a gets the first element: =  1\n",
      "b gets the last element: =  6\n",
      "*mid gets the last element: =  [2, 3, 4, 5]\n"
     ]
    }
   ],
   "source": [
    "# Intermediate\n",
    "\n",
    "x,y,z = (1,2,3)\n",
    "\n",
    "a, *mid,b = (1,2,3,4,5,6)\n",
    "\n",
    "\n",
    "print(\"a gets the first element: = \",a)\n",
    "print(\"b gets the last element: = \",b)\n",
    "print(\"*mid gets the last element: = \",mid)"
   ]
  },
  {
   "cell_type": "code",
   "execution_count": null,
   "id": "66a3ac06",
   "metadata": {},
   "outputs": [],
   "source": []
  },
  {
   "cell_type": "code",
   "execution_count": 76,
   "id": "c893fbb6",
   "metadata": {},
   "outputs": [
    {
     "data": {
      "text/plain": [
       "{(0, 1): 'A-B'}"
      ]
     },
     "execution_count": 76,
     "metadata": {},
     "output_type": "execute_result"
    }
   ],
   "source": [
    "# advanced\n",
    "\n",
    "from collections import namedtuple\n",
    "\n",
    "Point = namedtuple(\"Point\",\"x y\")\n",
    "edges = {(0,1): \"A-B\"}\n",
    "\n",
    "edges"
   ]
  },
  {
   "cell_type": "code",
   "execution_count": 83,
   "id": "ff8b9f3a",
   "metadata": {},
   "outputs": [
    {
     "name": "stdout",
     "output_type": "stream",
     "text": [
      "3\n",
      "4\n",
      "5\n"
     ]
    }
   ],
   "source": [
    "# Instead of saying “position 0” or “position 1”, you can say .x or .y. Easier to understand.\n",
    "\n",
    "from collections import namedtuple\n",
    "Point = namedtuple(\"Point\", \"x y z\")   \n",
    "p = Point(3, 4,5) \n",
    "print(p.x)  # Output: 3\n",
    "print(p.y)  # Output: 4\n",
    "print(p.z)  # Output: 5"
   ]
  },
  {
   "cell_type": "code",
   "execution_count": null,
   "id": "ff483e1d",
   "metadata": {},
   "outputs": [],
   "source": []
  },
  {
   "cell_type": "code",
   "execution_count": null,
   "id": "1a17d371",
   "metadata": {},
   "outputs": [],
   "source": []
  }
 ],
 "metadata": {
  "kernelspec": {
   "display_name": "Python 3",
   "language": "python",
   "name": "python3"
  },
  "language_info": {
   "codemirror_mode": {
    "name": "ipython",
    "version": 3
   },
   "file_extension": ".py",
   "mimetype": "text/x-python",
   "name": "python",
   "nbconvert_exporter": "python",
   "pygments_lexer": "ipython3",
   "version": "3.12.11"
  }
 },
 "nbformat": 4,
 "nbformat_minor": 5
}
