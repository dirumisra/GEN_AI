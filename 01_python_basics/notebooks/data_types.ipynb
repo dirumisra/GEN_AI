{
 "cells": [
  {
   "cell_type": "markdown",
   "id": "3eb6a611",
   "metadata": {},
   "source": [
    "#### **_Data Types in Python — Basic to Advanced_**\n",
    "\n",
    "    Introduction\n",
    "\n",
    "    - A data type defines what kind of value a variable holds and what operations can be performed on it.\n",
    "    - Python is dynamically typed — you don’t declare the type explicitly; it’s inferred from the value."
   ]
  },
  {
   "cell_type": "markdown",
   "id": "fed28021",
   "metadata": {},
   "source": [
    "#### Categories of Python Data Types"
   ]
  },
  {
   "cell_type": "code",
   "execution_count": 64,
   "id": "4dc05371",
   "metadata": {},
   "outputs": [],
   "source": [
    "data_types_table = [\n",
    "    \n",
    "    {\"Category\":\"Numeric\",\"Types\":[\"int\",\"float\",\"complex\"]},\n",
    "    {\"Category\":\"Sequence\",\"Types\":[\"str\",\"list\",\"tuple\",\"range\"]},\n",
    "    {\"Category\":\"Mapping\",\"Types\":[\"dict\"]},\n",
    "    {\"Category\":\"Set\",\"Types\":[\"set\",\"frozenset\"]},\n",
    "    {\"Category\":\"Boolean\",\"Types\":[\"bool\"]},\n",
    "    {\"Category\":\"Binary\",\"Types\":[\"bytes\",\"bytearray\",\"memoryview\"]},\n",
    "    {\"Category\":\"None Type\",\"Types\":[\"NoneType\"]}]"
   ]
  },
  {
   "cell_type": "code",
   "execution_count": 65,
   "id": "62212478",
   "metadata": {},
   "outputs": [
    {
     "name": "stdout",
     "output_type": "stream",
     "text": [
      "Numeric     >  int,float,complex\n",
      "Sequence    >  str,list,tuple,range\n",
      "Mapping     >  dict\n",
      "Set         >  set,frozenset\n",
      "Boolean     >  bool\n",
      "Binary      >  bytes,bytearray,memoryview\n",
      "None Type   >  NoneType\n"
     ]
    }
   ],
   "source": [
    "for row in data_types_table:\n",
    "    print(f\"{row['Category']:<12}>  {','.join(row['Types'])}\")"
   ]
  },
  {
   "cell_type": "markdown",
   "id": "70314c4d",
   "metadata": {},
   "source": [
    "####  **_Detailed Data Types_**\n",
    "\n",
    "### Numeric — int, float, complex, plus Decimal, Fraction"
   ]
  },
  {
   "cell_type": "code",
   "execution_count": 66,
   "id": "3391b17b",
   "metadata": {},
   "outputs": [
    {
     "name": "stdout",
     "output_type": "stream",
     "text": [
      "It is real value:>  2.0\n",
      "Imaginary part:>  3.0\n"
     ]
    }
   ],
   "source": [
    "x = 42                # Integer (int): whole number without decimals, can be very large in Python\n",
    "pi = 3.14159          # Floating-point number (float): decimal number stored approximately using IEEE-754 format\n",
    "z = 2 + 3j            # Complex number (complex): has a real part (2) and an imaginary part (3), where 'j' is √-1\n",
    "\n",
    "# Accessing the real part of the complex number 'z'\n",
    "print(\"It is real value:> \", z.real)    # Outputs 2.0 (real part as a float)\n",
    "\n",
    "# Accessing the imaginary part of the complex number 'z'\n",
    "print(\"Imaginary part:> \", z.imag)      # Outputs 3.0 (imaginary part as a float)"
   ]
  },
  {
   "cell_type": "code",
   "execution_count": 67,
   "id": "cf2b9684",
   "metadata": {},
   "outputs": [
    {
     "name": "stdout",
     "output_type": "stream",
     "text": [
      "3.3333333333333335\n",
      "1\n",
      "1000\n",
      "addition >  13\n",
      "floor division >  3\n",
      "absolute value >  5\n",
      "exponentiation >  1000\n",
      "real & imaginary parts >  20.0 3.0\n"
     ]
    }
   ],
   "source": [
    "# Intermediate level operations\n",
    "\n",
    "a, b = 10, 3  # Assign integers 10 and 3 to variables a and b\n",
    "\n",
    "print(a / b)          # True division: divides a by b and returns a float (3.3333...)\n",
    "print(a % b)          # Modulus: remainder when a is divided by b (1)\n",
    "print(a ** b)         # Exponentiation: a raised to the power of b (10^3 = 1000)\n",
    "                      # Note: 'pow(a, b)' is similar and more flexible (can take modulus as a third argument)\n",
    "\n",
    "print(\"addition > \", a + b)            # Adds a and b, then prints the result (13)\n",
    "print(\"floor division > \", a // b)     # Floor division: divides a by b and rounds down to nearest whole number (3)\n",
    "\n",
    "print(\"absolute value > \", abs(-5))    # Absolute value: returns non-negative value of -5 (5)\n",
    "\n",
    "print(\"exponentiation > \", pow(a, b)) # Using pow(): raises a to the power of b (10^3 = 1000)\n",
    "\n",
    "# Assuming c is defined as a complex number, e.g., c = 2 + 3j\n",
    "print(\"real & imaginary parts > \", c.real, c.imag)  \n",
    "# Prints real and imaginary parts of complex number c separately (2.0 and 3.0)"
   ]
  },
  {
   "cell_type": "code",
   "execution_count": 68,
   "id": "0c9a5326",
   "metadata": {},
   "outputs": [
    {
     "name": "stdout",
     "output_type": "stream",
     "text": [
      "2.469\n"
     ]
    }
   ],
   "source": [
    "# Advanced\n",
    "\n",
    "from decimal import Decimal, getcontext\n",
    "\n",
    "getcontext().prec = 4\n",
    "\n",
    "x = Decimal(\"1.23456789\")\n",
    "y = Decimal(\"2\")\n",
    "\n",
    "result = x * y\n",
    "print(result)  # Will apply precision: 2.469\n"
   ]
  },
  {
   "cell_type": "code",
   "execution_count": 69,
   "id": "486677bc",
   "metadata": {},
   "outputs": [
    {
     "name": "stdout",
     "output_type": "stream",
     "text": [
      "Using string: 19.99\n",
      "Using float : 19.989999999999998436805981327779591083526611328125\n"
     ]
    }
   ],
   "source": [
    "from decimal import Decimal, getcontext, ROUND_HALF_EVEN\n",
    "\n",
    "getcontext().prec=4\n",
    "getcontext().rounding = ROUND_HALF_EVEN\n",
    "a = Decimal(\"19.99\")\n",
    "b = Decimal(19.99)\n",
    "\n",
    "print(\"Using string:\", a)\n",
    "print(\"Using float :\", b)\n"
   ]
  },
  {
   "cell_type": "code",
   "execution_count": 79,
   "id": "4eb778be",
   "metadata": {},
   "outputs": [
    {
     "name": "stdout",
     "output_type": "stream",
     "text": [
      "Using float:  0.30000000000000004\n",
      "Using Decimal:  0.3\n"
     ]
    }
   ],
   "source": [
    "from decimal import Decimal  # Importing the Decimal class from the decimal module for precise decimal arithmetic\n",
    "\n",
    "# Demonstrating floating-point arithmetic in Python\n",
    "# Floating-point numbers (like 0.1 and 0.2) cannot be represented exactly in binary,\n",
    "# which often leads to small precision errors in calculations.\n",
    "print(\"Using float: \", 0.1 + 0.2)  # This will print 0.30000000000000004 instead of 0.3\n",
    "\n",
    "# Demonstrating decimal arithmetic using the Decimal module\n",
    "# Decimal objects preserve exact precision by using base-10 representation.\n",
    "# This is especially useful for financial or other high-precision applications.\n",
    "print(\"Using Decimal: \", Decimal(\"0.1\") + Decimal(\"0.2\"))  # This will correctly print 0.3\n"
   ]
  },
  {
   "cell_type": "code",
   "execution_count": 81,
   "id": "1de5395f",
   "metadata": {},
   "outputs": [
    {
     "name": "stdout",
     "output_type": "stream",
     "text": [
      "Using float (0.1 + 0.2): 0.30000000000000004\n",
      "Is float result equal to 0.3? False\n",
      "Using Decimal (0.1 + 0.2): 0.3\n",
      "Is Decimal result equal to 0.3? True\n"
     ]
    }
   ],
   "source": [
    "from decimal import Decimal\n",
    "\n",
    "# Using float\n",
    "a_float = 0.1 + 0.2\n",
    "print(\"Using float (0.1 + 0.2):\", a_float)\n",
    "print(\"Is float result equal to 0.3?\", a_float == 0.3)\n",
    "\n",
    "# Using Decimal\n",
    "a_decimal = Decimal(\"0.1\") + Decimal(\"0.2\")\n",
    "print(\"Using Decimal (0.1 + 0.2):\", a_decimal)\n",
    "print(\"Is Decimal result equal to 0.3?\", a_decimal == Decimal(\"0.3\"))"
   ]
  },
  {
   "cell_type": "code",
   "execution_count": 78,
   "id": "ab4ce526",
   "metadata": {},
   "outputs": [
    {
     "name": "stdout",
     "output_type": "stream",
     "text": [
      "True\n",
      "True\n"
     ]
    }
   ],
   "source": [
    "from decimal import Decimal, getcontext, ROUND_HALF_EVEN\n",
    "from fractions import Fraction\n",
    "import math, numbers\n",
    "\n",
    "# Set precision and rounding mode for Decimal\n",
    "getcontext().prec = 28\n",
    "getcontext().rounding = ROUND_HALF_EVEN\n",
    "\n",
    "# Use Decimal for accurate currency calculation\n",
    "total = (Decimal(\"19.99\") * Decimal(\"3\")).quantize(Decimal(\"0.01\"))\n",
    "\n",
    "# Add two exact fractions\n",
    "ratio = Fraction(1, 3) + Fraction(1, 6)\n",
    "\n",
    "# Test float comparison using math.isclose (accounts for float imprecision)\n",
    "print(math.isclose(0.1 + 0.2, 0.3))  # ✅ True — safe float comparison\n",
    "\n",
    "# Check if 42 is an instance of an integral number type\n",
    "print(isinstance(42, numbers.Integral))  # ✅ True"
   ]
  },
  {
   "cell_type": "code",
   "execution_count": 95,
   "id": "5dfc0da6",
   "metadata": {},
   "outputs": [
    {
     "name": "stdout",
     "output_type": "stream",
     "text": [
      "Using == : 0.1 False\n",
      "Using math.inclose() : True\n"
     ]
    }
   ],
   "source": [
    "# math.isclose() Safely compare two float values\n",
    "\n",
    "import math\n",
    "# Trying to compare two floats using ==\n",
    "print(\"Using == :\", 0.1, 0.2 == 0.3)   # ❌ False (due to float precision error)\n",
    "\n",
    "# Comparing the same floats using math.isclose()\n",
    "print(\"Using math.inclose() :\",math.isclose(0.1 + 0.2, 0.3))  # ✅ True\n",
    "\n",
    "# math.isclose() is helpful when dealing with floating-point math in scientific or ML code"
   ]
  },
  {
   "cell_type": "code",
   "execution_count": null,
   "id": "d1b51fb6",
   "metadata": {},
   "outputs": [
    {
     "name": "stdout",
     "output_type": "stream",
     "text": [
      "Is x an integral number? True\n"
     ]
    }
   ],
   "source": [
    "# numbers.Integral Check if a value behaves like an int\n",
    "\n",
    "import numbers\n",
    "\n",
    "# Basic integer check\n",
    "x = 42\n",
    "print(\"Is x an integral number?\", isinstance(x,numbers.Integral))  # ✅ True\n",
    "\n",
    "# Float should not be considered integral\n",
    "\n"
   ]
  },
  {
   "cell_type": "markdown",
   "id": "55953ac6",
   "metadata": {},
   "source": [
    "#### String (str)"
   ]
  },
  {
   "cell_type": "code",
   "execution_count": 71,
   "id": "838bf4cb",
   "metadata": {},
   "outputs": [
    {
     "name": "stdout",
     "output_type": "stream",
     "text": [
      "DHIRAJMISRA\n"
     ]
    }
   ],
   "source": [
    "name = \"dhirajmisra\"\n",
    "fname = 'diraj '\n",
    "lname = 'misra'\n",
    "\n",
    "print(name.upper())"
   ]
  },
  {
   "cell_type": "code",
   "execution_count": 72,
   "id": "e2bc1d8f",
   "metadata": {},
   "outputs": [
    {
     "name": "stdout",
     "output_type": "stream",
     "text": [
      "DHIRAJMISRA\n",
      "dhi\n",
      "arsimjarihd\n",
      "False\n",
      "dhirajmisra\n"
     ]
    }
   ],
   "source": [
    "print(name.upper())       # uppercase\n",
    "print(name[0:3])          # slicing\n",
    "print(name[::-1])         # reverse\n",
    "print(\"Py\" in name)       # substring check\n",
    "print(name.replace(\"Py\", \"My\"))"
   ]
  },
  {
   "cell_type": "markdown",
   "id": "7ceb71e2",
   "metadata": {},
   "source": [
    "#### List **_(Mutable ordered collection.)_**"
   ]
  },
  {
   "cell_type": "code",
   "execution_count": 73,
   "id": "0f562172",
   "metadata": {},
   "outputs": [
    {
     "name": "stdout",
     "output_type": "stream",
     "text": [
      "['apple', 'banana', 'cherry']\n"
     ]
    }
   ],
   "source": [
    "fruits = [\"apple\",\"banana\",\"cherry\"]\n",
    "print(fruits)"
   ]
  },
  {
   "cell_type": "code",
   "execution_count": 74,
   "id": "361616ba",
   "metadata": {},
   "outputs": [
    {
     "name": "stdout",
     "output_type": "stream",
     "text": [
      "['apple', 'banana', 'cherry', 'mango']\n"
     ]
    }
   ],
   "source": [
    "# append\n",
    "\n",
    "fruits.append(\"mango\")\n",
    "\n",
    "print(fruits)"
   ]
  },
  {
   "cell_type": "code",
   "execution_count": 75,
   "id": "cebdd850",
   "metadata": {},
   "outputs": [
    {
     "name": "stdout",
     "output_type": "stream",
     "text": [
      "['apple', 'cherry', 'mango']\n"
     ]
    }
   ],
   "source": [
    "# remove\n",
    "\n",
    "fruits.remove(\"banana\")\n",
    "print(fruits)"
   ]
  },
  {
   "cell_type": "code",
   "execution_count": null,
   "id": "dbe59b40",
   "metadata": {},
   "outputs": [],
   "source": []
  },
  {
   "cell_type": "code",
   "execution_count": null,
   "id": "5bf98197",
   "metadata": {},
   "outputs": [],
   "source": []
  }
 ],
 "metadata": {
  "kernelspec": {
   "display_name": "Python 3",
   "language": "python",
   "name": "python3"
  },
  "language_info": {
   "codemirror_mode": {
    "name": "ipython",
    "version": 3
   },
   "file_extension": ".py",
   "mimetype": "text/x-python",
   "name": "python",
   "nbconvert_exporter": "python",
   "pygments_lexer": "ipython3",
   "version": "3.12.11"
  }
 },
 "nbformat": 4,
 "nbformat_minor": 5
}
