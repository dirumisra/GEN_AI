{
 "cells": [
  {
   "cell_type": "markdown",
   "id": "3eb6a611",
   "metadata": {},
   "source": [
    "#### **_Data Types in Python — Basic to Advanced_**\n",
    "\n",
    "    Introduction\n",
    "\n",
    "    - A data type defines what kind of value a variable holds and what operations can be performed on it.\n",
    "    - Python is dynamically typed — you don’t declare the type explicitly; it’s inferred from the value."
   ]
  },
  {
   "cell_type": "markdown",
   "id": "fed28021",
   "metadata": {},
   "source": [
    "#### Categories of Python Data Types"
   ]
  },
  {
   "cell_type": "code",
   "execution_count": 18,
   "id": "4dc05371",
   "metadata": {},
   "outputs": [],
   "source": [
    "data_types_table = [\n",
    "    \n",
    "    {\"Category\":\"Numeric\",\"Types\":[\"int\",\"float\",\"complex\"]},\n",
    "    {\"Category\":\"Sequence\",\"Types\":[\"str\",\"list\",\"tuple\",\"range\"]},\n",
    "    {\"Category\":\"Mapping\",\"Types\":[\"dict\"]},\n",
    "    {\"Category\":\"Set\",\"Types\":[\"set\",\"frozenset\"]},\n",
    "    {\"Category\":\"Boolean\",\"Types\":[\"bool\"]},\n",
    "    {\"Category\":\"Binary\",\"Types\":[\"bytes\",\"bytearray\",\"memoryview\"]},\n",
    "    {\"Category\":\"None Type\",\"Types\":[\"NoneType\"]}]"
   ]
  },
  {
   "cell_type": "code",
   "execution_count": 19,
   "id": "62212478",
   "metadata": {},
   "outputs": [
    {
     "name": "stdout",
     "output_type": "stream",
     "text": [
      "Numeric     >  int,float,complex\n",
      "Sequence    >  str,list,tuple,range\n",
      "Mapping     >  dict\n",
      "Set         >  set,frozenset\n",
      "Boolean     >  bool\n",
      "Binary      >  bytes,bytearray,memoryview\n",
      "None Type   >  NoneType\n"
     ]
    }
   ],
   "source": [
    "for row in data_types_table:\n",
    "    print(f\"{row['Category']:<12}>  {','.join(row['Types'])}\")"
   ]
  },
  {
   "cell_type": "markdown",
   "id": "70314c4d",
   "metadata": {},
   "source": [
    "####  **_Detailed Data Types_**\n",
    "\n",
    "### Numeric — int, float, complex, plus Decimal, Fraction"
   ]
  },
  {
   "cell_type": "code",
   "execution_count": 20,
   "id": "3391b17b",
   "metadata": {},
   "outputs": [
    {
     "name": "stdout",
     "output_type": "stream",
     "text": [
      "It is real value:>  2.0\n",
      "Imaginary part:>  3.0\n"
     ]
    }
   ],
   "source": [
    "x = 42                # Integer (int): whole number without decimals, can be very large in Python\n",
    "pi = 3.14159          # Floating-point number (float): decimal number stored approximately using IEEE-754 format\n",
    "z = 2 + 3j            # Complex number (complex): has a real part (2) and an imaginary part (3), where 'j' is √-1\n",
    "\n",
    "# Accessing the real part of the complex number 'z'\n",
    "print(\"It is real value:> \", z.real)    # Outputs 2.0 (real part as a float)\n",
    "\n",
    "# Accessing the imaginary part of the complex number 'z'\n",
    "print(\"Imaginary part:> \", z.imag)      # Outputs 3.0 (imaginary part as a float)"
   ]
  },
  {
   "cell_type": "code",
   "execution_count": 38,
   "id": "cf2b9684",
   "metadata": {},
   "outputs": [
    {
     "name": "stdout",
     "output_type": "stream",
     "text": [
      "3.3333333333333335\n",
      "1\n",
      "1000\n",
      "addition >  13\n",
      "floor division >  3\n",
      "absolute value >  5\n",
      "exponentiation >  1000\n",
      "real & imaginary parts >  20.0 3.0\n"
     ]
    }
   ],
   "source": [
    "# Intermediate level operations\n",
    "\n",
    "a, b = 10, 3  # Assign integers 10 and 3 to variables a and b\n",
    "\n",
    "print(a / b)          # True division: divides a by b and returns a float (3.3333...)\n",
    "print(a % b)          # Modulus: remainder when a is divided by b (1)\n",
    "print(a ** b)         # Exponentiation: a raised to the power of b (10^3 = 1000)\n",
    "                      # Note: 'pow(a, b)' is similar and more flexible (can take modulus as a third argument)\n",
    "\n",
    "print(\"addition > \", a + b)            # Adds a and b, then prints the result (13)\n",
    "print(\"floor division > \", a // b)     # Floor division: divides a by b and rounds down to nearest whole number (3)\n",
    "\n",
    "print(\"absolute value > \", abs(-5))    # Absolute value: returns non-negative value of -5 (5)\n",
    "\n",
    "print(\"exponentiation > \", pow(a, b)) # Using pow(): raises a to the power of b (10^3 = 1000)\n",
    "\n",
    "# Assuming c is defined as a complex number, e.g., c = 2 + 3j\n",
    "print(\"real & imaginary parts > \", c.real, c.imag)  \n",
    "# Prints real and imaginary parts of complex number c separately (2.0 and 3.0)"
   ]
  },
  {
   "cell_type": "code",
   "execution_count": 44,
   "id": "ab4ce526",
   "metadata": {},
   "outputs": [
    {
     "ename": "NameError",
     "evalue": "name 'decimal' is not defined",
     "output_type": "error",
     "traceback": [
      "\u001b[1;31m---------------------------------------------------------------------------\u001b[0m",
      "\u001b[1;31mNameError\u001b[0m                                 Traceback (most recent call last)",
      "Cell \u001b[1;32mIn[44], line 10\u001b[0m\n\u001b[0;32m      7\u001b[0m getcontext()\u001b[38;5;241m.\u001b[39mprec\u001b[38;5;241m=\u001b[39m\u001b[38;5;241m28\u001b[39m\n\u001b[0;32m      8\u001b[0m getcontext()\u001b[38;5;241m.\u001b[39mrounding \u001b[38;5;241m=\u001b[39m ROUND_HALF_EVEN\n\u001b[1;32m---> 10\u001b[0m total \u001b[38;5;241m=\u001b[39m (\u001b[43mdecimal\u001b[49m(\u001b[38;5;241m19.99\u001b[39m) \u001b[38;5;241m*\u001b[39m decimal(\u001b[38;5;124m\"\u001b[39m\u001b[38;5;124m3\u001b[39m\u001b[38;5;124m\"\u001b[39m)\u001b[38;5;241m.\u001b[39mquantize(decimal(\u001b[38;5;124m\"\u001b[39m\u001b[38;5;124m0.01\u001b[39m\u001b[38;5;124m\"\u001b[39m)))\n\u001b[0;32m     14\u001b[0m \u001b[38;5;28mprint\u001b[39m(total)\n",
      "\u001b[1;31mNameError\u001b[0m: name 'decimal' is not defined"
     ]
    }
   ],
   "source": [
    "# Advanced\n",
    "\n",
    "from decimal import Decimal, getcontext, ROUND_HALF_EVEN\n",
    "from fractions import  Fraction\n",
    "import math, numbers\n",
    "\n",
    "getcontext().prec=28\n",
    "getcontext().rounding = ROUND_HALF_EVEN\n",
    "\n",
    "total = (decimal(19.99) * decimal(\"3\").quantize(decimal(\"0.01\")))\n",
    "\n",
    "\n",
    "\n",
    "print(total)"
   ]
  },
  {
   "cell_type": "markdown",
   "id": "55953ac6",
   "metadata": {},
   "source": [
    "#### String (str)"
   ]
  },
  {
   "cell_type": "code",
   "execution_count": null,
   "id": "838bf4cb",
   "metadata": {},
   "outputs": [
    {
     "name": "stdout",
     "output_type": "stream",
     "text": [
      "DHIRAJMISRA\n"
     ]
    }
   ],
   "source": [
    "name = \"dhirajmisra\"\n",
    "fname = 'diraj '\n",
    "lname = 'misra'\n",
    "\n",
    "print(name.upper())"
   ]
  },
  {
   "cell_type": "code",
   "execution_count": null,
   "id": "e2bc1d8f",
   "metadata": {},
   "outputs": [
    {
     "name": "stdout",
     "output_type": "stream",
     "text": [
      "DHIRAJMISRA\n",
      "dhi\n",
      "arsimjarihd\n",
      "False\n",
      "dhirajmisra\n"
     ]
    }
   ],
   "source": [
    "print(name.upper())       # uppercase\n",
    "print(name[0:3])          # slicing\n",
    "print(name[::-1])         # reverse\n",
    "print(\"Py\" in name)       # substring check\n",
    "print(name.replace(\"Py\", \"My\"))"
   ]
  },
  {
   "cell_type": "markdown",
   "id": "7ceb71e2",
   "metadata": {},
   "source": [
    "#### List **_(Mutable ordered collection.)_**"
   ]
  },
  {
   "cell_type": "code",
   "execution_count": null,
   "id": "0f562172",
   "metadata": {},
   "outputs": [
    {
     "name": "stdout",
     "output_type": "stream",
     "text": [
      "['apple', 'banana', 'cherry']\n"
     ]
    }
   ],
   "source": [
    "fruits = [\"apple\",\"banana\",\"cherry\"]\n",
    "print(fruits)"
   ]
  },
  {
   "cell_type": "code",
   "execution_count": null,
   "id": "361616ba",
   "metadata": {},
   "outputs": [
    {
     "name": "stdout",
     "output_type": "stream",
     "text": [
      "['apple', 'banana', 'cherry', 'mango']\n"
     ]
    }
   ],
   "source": [
    "# append\n",
    "\n",
    "fruits.append(\"mango\")\n",
    "\n",
    "print(fruits)"
   ]
  },
  {
   "cell_type": "code",
   "execution_count": null,
   "id": "cebdd850",
   "metadata": {},
   "outputs": [
    {
     "name": "stdout",
     "output_type": "stream",
     "text": [
      "['apple', 'cherry', 'mango']\n"
     ]
    }
   ],
   "source": [
    "# remove\n",
    "\n",
    "fruits.remove(\"banana\")\n",
    "print(fruits)"
   ]
  },
  {
   "cell_type": "code",
   "execution_count": null,
   "id": "dbe59b40",
   "metadata": {},
   "outputs": [],
   "source": []
  },
  {
   "cell_type": "code",
   "execution_count": null,
   "id": "5bf98197",
   "metadata": {},
   "outputs": [],
   "source": []
  }
 ],
 "metadata": {
  "kernelspec": {
   "display_name": "Python 3",
   "language": "python",
   "name": "python3"
  },
  "language_info": {
   "codemirror_mode": {
    "name": "ipython",
    "version": 3
   },
   "file_extension": ".py",
   "mimetype": "text/x-python",
   "name": "python",
   "nbconvert_exporter": "python",
   "pygments_lexer": "ipython3",
   "version": "3.12.11"
  }
 },
 "nbformat": 4,
 "nbformat_minor": 5
}
