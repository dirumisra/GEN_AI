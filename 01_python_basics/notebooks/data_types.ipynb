{
 "cells": [
  {
   "cell_type": "markdown",
   "id": "3eb6a611",
   "metadata": {},
   "source": [
    "#### **_Data Types in Python — Basic to Advanced_**\n",
    "\n",
    "    Introduction\n",
    "\n",
    "    - A data type defines what kind of value a variable holds and what operations can be performed on it.\n",
    "    - Python is dynamically typed — you don’t declare the type explicitly; it’s inferred from the value."
   ]
  },
  {
   "cell_type": "markdown",
   "id": "fed28021",
   "metadata": {},
   "source": [
    "#### Categories of Python Data Types"
   ]
  },
  {
   "cell_type": "code",
   "execution_count": 7,
   "id": "4dc05371",
   "metadata": {},
   "outputs": [],
   "source": [
    "data_types_table = [\n",
    "    \n",
    "    {\"Category\":\"Numeric\",\"Types\":[\"int\",\"float\",\"complex\"]},\n",
    "    {\"Category\":\"Sequence\",\"Types\":[\"str\",\"list\",\"tuple\",\"range\"]},\n",
    "    {\"Category\":\"Mapping\",\"Types\":[\"dict\"]},\n",
    "    {\"Category\":\"Set\",\"Types\":[\"set\",\"frozenset\"]},\n",
    "    {\"Category\":\"Boolean\",\"Types\":[\"bool\"]},\n",
    "    {\"Category\":\"Binary\",\"Types\":[\"bytes\",\"bytearray\",\"memoryview\"]},\n",
    "    {\"Category\":\"None Type\",\"Types\":[\"NoneType\"]}]"
   ]
  },
  {
   "cell_type": "code",
   "execution_count": 12,
   "id": "62212478",
   "metadata": {},
   "outputs": [
    {
     "name": "stdout",
     "output_type": "stream",
     "text": [
      "Numeric     >  int,float,complex\n",
      "Sequence    >  str,list,tuple,range\n",
      "Mapping     >  dict\n",
      "Set         >  set,frozenset\n",
      "Boolean     >  bool\n",
      "Binary      >  bytes,bytearray,memoryview\n",
      "None Type   >  NoneType\n"
     ]
    }
   ],
   "source": [
    "for row in data_types_table:\n",
    "    print(f\"{row['Category']:<12}>  {','.join(row['Types'])}\")"
   ]
  },
  {
   "cell_type": "markdown",
   "id": "70314c4d",
   "metadata": {},
   "source": [
    "####  **_Detailed Data Types_**\n",
    "\n",
    " Numeric Types"
   ]
  },
  {
   "cell_type": "code",
   "execution_count": 18,
   "id": "3391b17b",
   "metadata": {},
   "outputs": [],
   "source": [
    "a = 10          # int (integer)\n",
    "b = 3.14        # float(decimal)\n",
    "c = 2+3j        # complex "
   ]
  },
  {
   "cell_type": "code",
   "execution_count": 36,
   "id": "0592e33e",
   "metadata": {},
   "outputs": [
    {
     "name": "stdout",
     "output_type": "stream",
     "text": [
      "addition >  13.14\n",
      "floor division >  3\n",
      "absolute value >  5\n",
      "exponentiation 8\n",
      "real & imaginary parts >  2.0 3.0\n"
     ]
    }
   ],
   "source": [
    "# let's play with datatype\n",
    "\n",
    "print(\"addition > \", a + b)                   # Adds the values of a and b, then prints the result\n",
    "\n",
    "print(\"floor division > \", a // 3)            # Performs floor division (a divided by 3, rounded down to nearest whole number)\n",
    "\n",
    "print(\"absolute value > \", abs(-5))           # Returns the absolute (non-negative) value of -5, which is 5\n",
    "\n",
    "print(\"exponentiation\", pow(2, 3))            # Raises 2 to the power of 3 (2³), result is 8\n",
    "\n",
    "print(\"real & imaginary parts > \", c.real, c.imag)  \n",
    "# For a complex number c, prints the real and imaginary parts separately"
   ]
  },
  {
   "cell_type": "code",
   "execution_count": 25,
   "id": "514458f6",
   "metadata": {},
   "outputs": [
    {
     "name": "stdout",
     "output_type": "stream",
     "text": [
      "it is integer data type: - 10\n",
      "it is float data type: - 3.14\n",
      "it is complex data type: - (2+3j)\n"
     ]
    }
   ],
   "source": [
    "# check data type\n",
    "\n",
    "print(\"it is integer data type: -\",(a))\n",
    "print(\"it is float data type: -\",(b))\n",
    "print(\"it is complex data type: -\",(c))"
   ]
  },
  {
   "cell_type": "code",
   "execution_count": null,
   "id": "61e75083",
   "metadata": {},
   "outputs": [],
   "source": [
    "print(\"addition > \", a + b)                   # Adds the values of a and b, then prints the result\n",
    "\n",
    "print(\"floor division > \", a // 3)            # Performs floor division (a divided by 3, rounded down to nearest whole number)\n",
    "\n",
    "print(\"absolute value > \", abs(-5))           # Returns the absolute (non-negative) value of -5, which is 5\n",
    "\n",
    "print(\"exponentiation\", pow(2, 3))            # Raises 2 to the power of 3 (2³), result is 8\n",
    "\n",
    "print(\"real & imaginary parts > \", c.real, c.imag)  \n",
    "# For a complex number c, prints the real and imaginary parts separately"
   ]
  }
 ],
 "metadata": {
  "kernelspec": {
   "display_name": "Python 3",
   "language": "python",
   "name": "python3"
  },
  "language_info": {
   "codemirror_mode": {
    "name": "ipython",
    "version": 3
   },
   "file_extension": ".py",
   "mimetype": "text/x-python",
   "name": "python",
   "nbconvert_exporter": "python",
   "pygments_lexer": "ipython3",
   "version": "3.12.11"
  }
 },
 "nbformat": 4,
 "nbformat_minor": 5
}
