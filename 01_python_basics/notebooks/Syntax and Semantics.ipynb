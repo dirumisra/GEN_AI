{
 "cells": [
  {
   "cell_type": "markdown",
   "id": "bb20686f",
   "metadata": {},
   "source": [
    "#### Syntax and Semantics in Python"
   ]
  },
  {
   "cell_type": "markdown",
   "id": "5ea827bd",
   "metadata": {},
   "source": [
    "#### **_Single‑line: start with #_**"
   ]
  },
  {
   "cell_type": "code",
   "execution_count": null,
   "id": "e04fe872",
   "metadata": {},
   "outputs": [
    {
     "name": "stdout",
     "output_type": "stream",
     "text": [
      "Python is programming language\n"
     ]
    }
   ],
   "source": [
    "# Single‑line: start with # — everything after it on the same line is ignored\n",
    "# This prints a greeting\n",
    "\n",
    "print(\"Python is programming language\") # inline comment"
   ]
  },
  {
   "cell_type": "markdown",
   "id": "8e9035b4",
   "metadata": {},
   "source": [
    "#### **_Multi‑line (practical options):_**\n",
    "\n",
    "    -Use a triple‑quoted string as a block note.It’s just a string literal—if it’s not assigned or used as a docstring,Python will create it then discard it:"
   ]
  },
  {
   "cell_type": "code",
   "execution_count": null,
   "id": "26ba9d31",
   "metadata": {},
   "outputs": [],
   "source": []
  },
  {
   "cell_type": "markdown",
   "id": "b41b4ec6",
   "metadata": {},
   "source": [
    "#### **_Indentation_**\n",
    "\n",
    "    Indentation in Python is critical, not just for readability but for defining code structure. Unlike many other languages that use braces {} or keywords to denote code blocks, Python uses indentation levels to indicate blocks of code (like loops, functions, conditionals, etc.)"
   ]
  },
  {
   "cell_type": "code",
   "execution_count": 16,
   "id": "4f03ac75",
   "metadata": {},
   "outputs": [
    {
     "name": "stdout",
     "output_type": "stream",
     "text": [
      "Hello Stranger!\n",
      "Hello, Python!\n"
     ]
    }
   ],
   "source": [
    "def greet(name):\n",
    "    if name:\n",
    "        print(f\"Hello, {name}!\")\n",
    "    else:\n",
    "        print(\"Hello Stranger!\")\n",
    "\n",
    "greet(\"\")  # This will print else value\n",
    "\n",
    "greet(\"Python\")  # this will print if value(name)"
   ]
  },
  {
   "cell_type": "markdown",
   "id": "f18d5a50",
   "metadata": {},
   "source": [
    "#### **_Line Continuation_**"
   ]
  },
  {
   "cell_type": "code",
   "execution_count": 23,
   "id": "756716cb",
   "metadata": {},
   "outputs": [
    {
     "name": "stdout",
     "output_type": "stream",
     "text": [
      "Total Value is:- 210\n"
     ]
    }
   ],
   "source": [
    "# Example Using a Backslash (\\)\n",
    "\n",
    "total = 10+20+30+\\\n",
    "    40+50+60\n",
    "\n",
    "print(f\"Total Value is:- {total}\")"
   ]
  },
  {
   "cell_type": "code",
   "execution_count": 27,
   "id": "7df3f5ab",
   "metadata": {},
   "outputs": [
    {
     "name": "stdout",
     "output_type": "stream",
     "text": [
      "Both Condition are True\n"
     ]
    }
   ],
   "source": [
    "# Another Example: Long if Statement\n",
    "\n",
    "if 10 < 20 and \\\n",
    "    30 < 40:\n",
    "    print(\"Both Condition are True\")"
   ]
  },
  {
   "cell_type": "code",
   "execution_count": null,
   "id": "2840f4a8",
   "metadata": {},
   "outputs": [],
   "source": []
  }
 ],
 "metadata": {
  "kernelspec": {
   "display_name": "Python 3",
   "language": "python",
   "name": "python3"
  },
  "language_info": {
   "codemirror_mode": {
    "name": "ipython",
    "version": 3
   },
   "file_extension": ".py",
   "mimetype": "text/x-python",
   "name": "python",
   "nbconvert_exporter": "python",
   "pygments_lexer": "ipython3",
   "version": "3.12.11"
  }
 },
 "nbformat": 4,
 "nbformat_minor": 5
}
